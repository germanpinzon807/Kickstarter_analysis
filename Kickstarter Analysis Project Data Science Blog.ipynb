{
 "cells": [
  {
   "cell_type": "markdown",
   "metadata": {},
   "source": [
    "# Analyzing the success of Kickstarter projects \n",
    "\n",
    "Kickstarter is a crowdfunding platform where different creators show their projects. If people like a project, they can pledge money and fund it to make it a reality. This platform works over multiple countries around the world and almost any field of creative work can be found in it. Currently, is among the biggest source of crowdfunding. \n",
    "\n",
    "The general purpose of this project is to give a glimpse on how the diverse types of crowdfunding projects evolved and give a notion of the most successful and failed types, all of this through the powerful lens of data analysis. In order to achieve this, I aspire to answer three questions, looking for insights that lie within a dataset that gathers descriptions of almost 379000 projects, ranging from 2009 (year in which Kickstarter was founded) to the first months of 2018, with features such as the type of project, the amount of money they collect or their country of origin. This dataset was gathered by Mickaël Mouillé with data provided by the Kickstarter platform itself (https://www.kaggle.com/kemical/kickstarter-projects). \n",
    "\n",
    "This notebook have four parts:  \n",
    "\n",
    "- __Description of the dataset and preparation of the data__\n",
    "- __Question 1:__ What are the most successful, failed and canceled kind of projects?\n",
    "- __Question 2:__ Is there any seasonality on project launches?\n",
    "- __Question 3:__ How the platform and product areas evolved through the years?\n",
    "\n",
    "Let's begin!"
   ]
  },
  {
   "cell_type": "markdown",
   "metadata": {},
   "source": [
    "## Description of the dataset and preparation of the data:"
   ]
  },
  {
   "cell_type": "code",
   "execution_count": 1,
   "metadata": {},
   "outputs": [],
   "source": [
    "# Import analysis and visualization of data libraries\n",
    "import pandas as pd\n",
    "import numpy as np\n",
    "import re\n",
    "import seaborn as sns\n",
    "import calendar\n",
    "import matplotlib.pyplot as plt\n",
    "%matplotlib inline"
   ]
  },
  {
   "cell_type": "markdown",
   "metadata": {},
   "source": [
    "In first place, I would want to give a glance on the data, its structure and type of contents:"
   ]
  },
  {
   "cell_type": "code",
   "execution_count": 2,
   "metadata": {},
   "outputs": [
    {
     "data": {
      "text/html": [
       "<div>\n",
       "<style scoped>\n",
       "    .dataframe tbody tr th:only-of-type {\n",
       "        vertical-align: middle;\n",
       "    }\n",
       "\n",
       "    .dataframe tbody tr th {\n",
       "        vertical-align: top;\n",
       "    }\n",
       "\n",
       "    .dataframe thead th {\n",
       "        text-align: right;\n",
       "    }\n",
       "</style>\n",
       "<table border=\"1\" class=\"dataframe\">\n",
       "  <thead>\n",
       "    <tr style=\"text-align: right;\">\n",
       "      <th></th>\n",
       "      <th>ID</th>\n",
       "      <th>name</th>\n",
       "      <th>category</th>\n",
       "      <th>main_category</th>\n",
       "      <th>currency</th>\n",
       "      <th>deadline</th>\n",
       "      <th>goal</th>\n",
       "      <th>launched</th>\n",
       "      <th>pledged</th>\n",
       "      <th>state</th>\n",
       "      <th>backers</th>\n",
       "      <th>country</th>\n",
       "      <th>usd pledged</th>\n",
       "      <th>usd_pledged_real</th>\n",
       "      <th>usd_goal_real</th>\n",
       "    </tr>\n",
       "  </thead>\n",
       "  <tbody>\n",
       "    <tr>\n",
       "      <th>0</th>\n",
       "      <td>1000002330</td>\n",
       "      <td>The Songs of Adelaide &amp; Abullah</td>\n",
       "      <td>Poetry</td>\n",
       "      <td>Publishing</td>\n",
       "      <td>GBP</td>\n",
       "      <td>2015-10-09</td>\n",
       "      <td>1000.0</td>\n",
       "      <td>2015-08-11 12:12:28</td>\n",
       "      <td>0.0</td>\n",
       "      <td>failed</td>\n",
       "      <td>0</td>\n",
       "      <td>GB</td>\n",
       "      <td>0.0</td>\n",
       "      <td>0.0</td>\n",
       "      <td>1533.95</td>\n",
       "    </tr>\n",
       "    <tr>\n",
       "      <th>1</th>\n",
       "      <td>1000003930</td>\n",
       "      <td>Greeting From Earth: ZGAC Arts Capsule For ET</td>\n",
       "      <td>Narrative Film</td>\n",
       "      <td>Film &amp; Video</td>\n",
       "      <td>USD</td>\n",
       "      <td>2017-11-01</td>\n",
       "      <td>30000.0</td>\n",
       "      <td>2017-09-02 04:43:57</td>\n",
       "      <td>2421.0</td>\n",
       "      <td>failed</td>\n",
       "      <td>15</td>\n",
       "      <td>US</td>\n",
       "      <td>100.0</td>\n",
       "      <td>2421.0</td>\n",
       "      <td>30000.00</td>\n",
       "    </tr>\n",
       "    <tr>\n",
       "      <th>2</th>\n",
       "      <td>1000004038</td>\n",
       "      <td>Where is Hank?</td>\n",
       "      <td>Narrative Film</td>\n",
       "      <td>Film &amp; Video</td>\n",
       "      <td>USD</td>\n",
       "      <td>2013-02-26</td>\n",
       "      <td>45000.0</td>\n",
       "      <td>2013-01-12 00:20:50</td>\n",
       "      <td>220.0</td>\n",
       "      <td>failed</td>\n",
       "      <td>3</td>\n",
       "      <td>US</td>\n",
       "      <td>220.0</td>\n",
       "      <td>220.0</td>\n",
       "      <td>45000.00</td>\n",
       "    </tr>\n",
       "    <tr>\n",
       "      <th>3</th>\n",
       "      <td>1000007540</td>\n",
       "      <td>ToshiCapital Rekordz Needs Help to Complete Album</td>\n",
       "      <td>Music</td>\n",
       "      <td>Music</td>\n",
       "      <td>USD</td>\n",
       "      <td>2012-04-16</td>\n",
       "      <td>5000.0</td>\n",
       "      <td>2012-03-17 03:24:11</td>\n",
       "      <td>1.0</td>\n",
       "      <td>failed</td>\n",
       "      <td>1</td>\n",
       "      <td>US</td>\n",
       "      <td>1.0</td>\n",
       "      <td>1.0</td>\n",
       "      <td>5000.00</td>\n",
       "    </tr>\n",
       "    <tr>\n",
       "      <th>4</th>\n",
       "      <td>1000011046</td>\n",
       "      <td>Community Film Project: The Art of Neighborhoo...</td>\n",
       "      <td>Film &amp; Video</td>\n",
       "      <td>Film &amp; Video</td>\n",
       "      <td>USD</td>\n",
       "      <td>2015-08-29</td>\n",
       "      <td>19500.0</td>\n",
       "      <td>2015-07-04 08:35:03</td>\n",
       "      <td>1283.0</td>\n",
       "      <td>canceled</td>\n",
       "      <td>14</td>\n",
       "      <td>US</td>\n",
       "      <td>1283.0</td>\n",
       "      <td>1283.0</td>\n",
       "      <td>19500.00</td>\n",
       "    </tr>\n",
       "  </tbody>\n",
       "</table>\n",
       "</div>"
      ],
      "text/plain": [
       "           ID                                               name  \\\n",
       "0  1000002330                    The Songs of Adelaide & Abullah   \n",
       "1  1000003930      Greeting From Earth: ZGAC Arts Capsule For ET   \n",
       "2  1000004038                                     Where is Hank?   \n",
       "3  1000007540  ToshiCapital Rekordz Needs Help to Complete Album   \n",
       "4  1000011046  Community Film Project: The Art of Neighborhoo...   \n",
       "\n",
       "         category main_category currency    deadline     goal  \\\n",
       "0          Poetry    Publishing      GBP  2015-10-09   1000.0   \n",
       "1  Narrative Film  Film & Video      USD  2017-11-01  30000.0   \n",
       "2  Narrative Film  Film & Video      USD  2013-02-26  45000.0   \n",
       "3           Music         Music      USD  2012-04-16   5000.0   \n",
       "4    Film & Video  Film & Video      USD  2015-08-29  19500.0   \n",
       "\n",
       "              launched  pledged     state  backers country  usd pledged  \\\n",
       "0  2015-08-11 12:12:28      0.0    failed        0      GB          0.0   \n",
       "1  2017-09-02 04:43:57   2421.0    failed       15      US        100.0   \n",
       "2  2013-01-12 00:20:50    220.0    failed        3      US        220.0   \n",
       "3  2012-03-17 03:24:11      1.0    failed        1      US          1.0   \n",
       "4  2015-07-04 08:35:03   1283.0  canceled       14      US       1283.0   \n",
       "\n",
       "   usd_pledged_real  usd_goal_real  \n",
       "0               0.0        1533.95  \n",
       "1            2421.0       30000.00  \n",
       "2             220.0       45000.00  \n",
       "3               1.0        5000.00  \n",
       "4            1283.0       19500.00  "
      ]
     },
     "execution_count": 2,
     "metadata": {},
     "output_type": "execute_result"
    }
   ],
   "source": [
    "# Dataframe load:\n",
    "df = pd.read_csv('ks-projects-201801.csv')\n",
    "df.head()"
   ]
  },
  {
   "cell_type": "markdown",
   "metadata": {},
   "source": [
    "As you can see, most of the column names are pretty self explanatory: the projects are described by a (presumably) unique ID, their names, the category and sub-category they fit in, the deadline for the pledge/funding stage, the money goal their creators aspire to gather, the date of launching of the pledge/funding stage, the amount of backers, and their country of origin. The three last columns (__*usd pledged*__, __*usd_pledged_real*__, __*usd_goal_real*__), corresponds to the conversion to USD of the amount of money pledged. Let´s confirm if the dataset have _NaN_ values:"
   ]
  },
  {
   "cell_type": "code",
   "execution_count": 3,
   "metadata": {},
   "outputs": [
    {
     "name": "stdout",
     "output_type": "stream",
     "text": [
      "ID column data type: int64\n",
      "ID column amount of unique values: 378661\n",
      "Number of projects: 378661\n"
     ]
    }
   ],
   "source": [
    "#There are unique, numeric identifiers for each project:\n",
    "print('ID column data type:', df.ID.dtype)\n",
    "print('ID column amount of unique values:', len(df.ID.unique()))\n",
    "print('Number of projects:', df.shape[0])"
   ]
  },
  {
   "cell_type": "code",
   "execution_count": 4,
   "metadata": {},
   "outputs": [
    {
     "name": "stdout",
     "output_type": "stream",
     "text": [
      "Columns with NaN values:\n",
      "['name' 'usd pledged']\n"
     ]
    }
   ],
   "source": [
    "#Is there any NaN values?  \n",
    "print('Columns with NaN values:')\n",
    "print(df.columns[df.isnull().mean()!=0].values) "
   ]
  },
  {
   "cell_type": "markdown",
   "metadata": {},
   "source": [
    "Two columns have NaN values: __\"name\"__ and __\"usd pledge\"__."
   ]
  },
  {
   "cell_type": "code",
   "execution_count": 5,
   "metadata": {},
   "outputs": [
    {
     "data": {
      "text/plain": [
       "166851    True\n",
       "307234    True\n",
       "309991    True\n",
       "338931    True\n",
       "Name: name, dtype: bool"
      ]
     },
     "execution_count": 5,
     "metadata": {},
     "output_type": "execute_result"
    }
   ],
   "source": [
    "#Let's see how many projects have no name\n",
    "df.name.isnull()[df.name.isnull()==True]"
   ]
  },
  {
   "cell_type": "code",
   "execution_count": 6,
   "metadata": {},
   "outputs": [
    {
     "name": "stdout",
     "output_type": "stream",
     "text": [
      "Amount of NaN values in the \"usd pledged\" column: 3797\n"
     ]
    }
   ],
   "source": [
    "#Let's see how many projects have no conversion to USD\n",
    "usd_pledged_null = df['usd pledged'].isnull()[df['usd pledged'].isnull()==True]\n",
    "print('Amount of NaN values in the \"usd pledged\" column:',len(usd_pledged_null))"
   ]
  },
  {
   "cell_type": "markdown",
   "metadata": {},
   "source": [
    "Since the name of a project do not give us relevant insights for the questions and there are only four projects without it, we can leave it that way. On the other hand, there are a significant amount of NaN values in the __usd pledged__ column. Also, it seems that this column give redundant information, compared to __usd_pledged_real__ column. What happen? Let's see if the other features of these projects with NaN's give us any hint: "
   ]
  },
  {
   "cell_type": "code",
   "execution_count": 7,
   "metadata": {},
   "outputs": [
    {
     "data": {
      "text/html": [
       "<div>\n",
       "<style scoped>\n",
       "    .dataframe tbody tr th:only-of-type {\n",
       "        vertical-align: middle;\n",
       "    }\n",
       "\n",
       "    .dataframe tbody tr th {\n",
       "        vertical-align: top;\n",
       "    }\n",
       "\n",
       "    .dataframe thead th {\n",
       "        text-align: right;\n",
       "    }\n",
       "</style>\n",
       "<table border=\"1\" class=\"dataframe\">\n",
       "  <thead>\n",
       "    <tr style=\"text-align: right;\">\n",
       "      <th></th>\n",
       "      <th>ID</th>\n",
       "      <th>name</th>\n",
       "      <th>category</th>\n",
       "      <th>main_category</th>\n",
       "      <th>currency</th>\n",
       "      <th>deadline</th>\n",
       "      <th>goal</th>\n",
       "      <th>launched</th>\n",
       "      <th>pledged</th>\n",
       "      <th>state</th>\n",
       "      <th>backers</th>\n",
       "      <th>country</th>\n",
       "      <th>usd pledged</th>\n",
       "      <th>usd_pledged_real</th>\n",
       "      <th>usd_goal_real</th>\n",
       "    </tr>\n",
       "  </thead>\n",
       "  <tbody>\n",
       "    <tr>\n",
       "      <th>169</th>\n",
       "      <td>1000694855</td>\n",
       "      <td>STREETFIGHTERZ WHEELIE MURICA</td>\n",
       "      <td>Film &amp; Video</td>\n",
       "      <td>Film &amp; Video</td>\n",
       "      <td>USD</td>\n",
       "      <td>2014-09-20</td>\n",
       "      <td>6500.0</td>\n",
       "      <td>2014-08-06 21:28:36</td>\n",
       "      <td>555.00</td>\n",
       "      <td>undefined</td>\n",
       "      <td>0</td>\n",
       "      <td>N,0\"</td>\n",
       "      <td>NaN</td>\n",
       "      <td>555.00</td>\n",
       "      <td>6500.00</td>\n",
       "    </tr>\n",
       "    <tr>\n",
       "      <th>328</th>\n",
       "      <td>100149523</td>\n",
       "      <td>Duncan Woods - Chameleon EP</td>\n",
       "      <td>Music</td>\n",
       "      <td>Music</td>\n",
       "      <td>AUD</td>\n",
       "      <td>2015-08-25</td>\n",
       "      <td>4500.0</td>\n",
       "      <td>2015-08-04 12:05:17</td>\n",
       "      <td>4767.00</td>\n",
       "      <td>undefined</td>\n",
       "      <td>0</td>\n",
       "      <td>N,0\"</td>\n",
       "      <td>NaN</td>\n",
       "      <td>3402.08</td>\n",
       "      <td>3211.53</td>\n",
       "    </tr>\n",
       "    <tr>\n",
       "      <th>632</th>\n",
       "      <td>1003023003</td>\n",
       "      <td>The Making of Ashley Kelley's Debut Album</td>\n",
       "      <td>Music</td>\n",
       "      <td>Music</td>\n",
       "      <td>USD</td>\n",
       "      <td>2015-04-09</td>\n",
       "      <td>3500.0</td>\n",
       "      <td>2015-03-10 20:06:13</td>\n",
       "      <td>3576.00</td>\n",
       "      <td>undefined</td>\n",
       "      <td>0</td>\n",
       "      <td>N,0\"</td>\n",
       "      <td>NaN</td>\n",
       "      <td>3576.00</td>\n",
       "      <td>3500.00</td>\n",
       "    </tr>\n",
       "    <tr>\n",
       "      <th>647</th>\n",
       "      <td>1003130892</td>\n",
       "      <td>Butter Side Down Debut Album</td>\n",
       "      <td>Music</td>\n",
       "      <td>Music</td>\n",
       "      <td>USD</td>\n",
       "      <td>2015-11-26</td>\n",
       "      <td>6000.0</td>\n",
       "      <td>2015-11-02 22:09:19</td>\n",
       "      <td>7007.80</td>\n",
       "      <td>undefined</td>\n",
       "      <td>0</td>\n",
       "      <td>N,0\"</td>\n",
       "      <td>NaN</td>\n",
       "      <td>7007.80</td>\n",
       "      <td>6000.00</td>\n",
       "    </tr>\n",
       "    <tr>\n",
       "      <th>749</th>\n",
       "      <td>1003629045</td>\n",
       "      <td>Chase Goehring debut EP</td>\n",
       "      <td>Music</td>\n",
       "      <td>Music</td>\n",
       "      <td>USD</td>\n",
       "      <td>2016-03-21</td>\n",
       "      <td>3000.0</td>\n",
       "      <td>2016-02-23 03:09:49</td>\n",
       "      <td>3660.38</td>\n",
       "      <td>undefined</td>\n",
       "      <td>0</td>\n",
       "      <td>N,0\"</td>\n",
       "      <td>NaN</td>\n",
       "      <td>3660.38</td>\n",
       "      <td>3000.00</td>\n",
       "    </tr>\n",
       "    <tr>\n",
       "      <th>...</th>\n",
       "      <td>...</td>\n",
       "      <td>...</td>\n",
       "      <td>...</td>\n",
       "      <td>...</td>\n",
       "      <td>...</td>\n",
       "      <td>...</td>\n",
       "      <td>...</td>\n",
       "      <td>...</td>\n",
       "      <td>...</td>\n",
       "      <td>...</td>\n",
       "      <td>...</td>\n",
       "      <td>...</td>\n",
       "      <td>...</td>\n",
       "      <td>...</td>\n",
       "      <td>...</td>\n",
       "    </tr>\n",
       "    <tr>\n",
       "      <th>378233</th>\n",
       "      <td>997971307</td>\n",
       "      <td>EQUUS International Film Festival®, all-equine...</td>\n",
       "      <td>Film &amp; Video</td>\n",
       "      <td>Film &amp; Video</td>\n",
       "      <td>USD</td>\n",
       "      <td>2015-02-03</td>\n",
       "      <td>7500.0</td>\n",
       "      <td>2014-12-05 04:19:14</td>\n",
       "      <td>10.00</td>\n",
       "      <td>undefined</td>\n",
       "      <td>0</td>\n",
       "      <td>N,0\"</td>\n",
       "      <td>NaN</td>\n",
       "      <td>10.00</td>\n",
       "      <td>7500.00</td>\n",
       "    </tr>\n",
       "    <tr>\n",
       "      <th>378303</th>\n",
       "      <td>998319149</td>\n",
       "      <td>Emily 2050 - Short Film</td>\n",
       "      <td>Film &amp; Video</td>\n",
       "      <td>Film &amp; Video</td>\n",
       "      <td>CAD</td>\n",
       "      <td>2014-05-23</td>\n",
       "      <td>3000.0</td>\n",
       "      <td>2014-04-08 00:30:09</td>\n",
       "      <td>3102.00</td>\n",
       "      <td>undefined</td>\n",
       "      <td>0</td>\n",
       "      <td>N,0\"</td>\n",
       "      <td>NaN</td>\n",
       "      <td>2845.61</td>\n",
       "      <td>2752.04</td>\n",
       "    </tr>\n",
       "    <tr>\n",
       "      <th>378434</th>\n",
       "      <td>9988744</td>\n",
       "      <td>Matthew Stephens Music</td>\n",
       "      <td>Music</td>\n",
       "      <td>Music</td>\n",
       "      <td>USD</td>\n",
       "      <td>2016-02-05</td>\n",
       "      <td>5000.0</td>\n",
       "      <td>2016-01-06 21:59:23</td>\n",
       "      <td>235.00</td>\n",
       "      <td>undefined</td>\n",
       "      <td>0</td>\n",
       "      <td>N,0\"</td>\n",
       "      <td>NaN</td>\n",
       "      <td>235.00</td>\n",
       "      <td>5000.00</td>\n",
       "    </tr>\n",
       "    <tr>\n",
       "      <th>378585</th>\n",
       "      <td>999610349</td>\n",
       "      <td>Lady Vendredi: Afrofuturist concept 12 inch EP</td>\n",
       "      <td>Music</td>\n",
       "      <td>Music</td>\n",
       "      <td>GBP</td>\n",
       "      <td>2015-10-19</td>\n",
       "      <td>2000.0</td>\n",
       "      <td>2015-09-21 22:33:18</td>\n",
       "      <td>2125.00</td>\n",
       "      <td>undefined</td>\n",
       "      <td>0</td>\n",
       "      <td>N,0\"</td>\n",
       "      <td>NaN</td>\n",
       "      <td>3273.36</td>\n",
       "      <td>3080.81</td>\n",
       "    </tr>\n",
       "    <tr>\n",
       "      <th>378588</th>\n",
       "      <td>999621278</td>\n",
       "      <td>Jeune auteur a besoin de vous!</td>\n",
       "      <td>Publishing</td>\n",
       "      <td>Publishing</td>\n",
       "      <td>EUR</td>\n",
       "      <td>2015-11-20</td>\n",
       "      <td>1600.0</td>\n",
       "      <td>2015-10-21 21:28:13</td>\n",
       "      <td>0.00</td>\n",
       "      <td>undefined</td>\n",
       "      <td>0</td>\n",
       "      <td>N,0\"</td>\n",
       "      <td>NaN</td>\n",
       "      <td>0.00</td>\n",
       "      <td>1710.08</td>\n",
       "    </tr>\n",
       "  </tbody>\n",
       "</table>\n",
       "<p>3797 rows × 15 columns</p>\n",
       "</div>"
      ],
      "text/plain": [
       "                ID                                               name  \\\n",
       "169     1000694855                      STREETFIGHTERZ WHEELIE MURICA   \n",
       "328      100149523                        Duncan Woods - Chameleon EP   \n",
       "632     1003023003          The Making of Ashley Kelley's Debut Album   \n",
       "647     1003130892                       Butter Side Down Debut Album   \n",
       "749     1003629045                            Chase Goehring debut EP   \n",
       "...            ...                                                ...   \n",
       "378233   997971307  EQUUS International Film Festival®, all-equine...   \n",
       "378303   998319149                            Emily 2050 - Short Film   \n",
       "378434     9988744                             Matthew Stephens Music   \n",
       "378585   999610349     Lady Vendredi: Afrofuturist concept 12 inch EP   \n",
       "378588   999621278                     Jeune auteur a besoin de vous!   \n",
       "\n",
       "            category main_category currency    deadline    goal  \\\n",
       "169     Film & Video  Film & Video      USD  2014-09-20  6500.0   \n",
       "328            Music         Music      AUD  2015-08-25  4500.0   \n",
       "632            Music         Music      USD  2015-04-09  3500.0   \n",
       "647            Music         Music      USD  2015-11-26  6000.0   \n",
       "749            Music         Music      USD  2016-03-21  3000.0   \n",
       "...              ...           ...      ...         ...     ...   \n",
       "378233  Film & Video  Film & Video      USD  2015-02-03  7500.0   \n",
       "378303  Film & Video  Film & Video      CAD  2014-05-23  3000.0   \n",
       "378434         Music         Music      USD  2016-02-05  5000.0   \n",
       "378585         Music         Music      GBP  2015-10-19  2000.0   \n",
       "378588    Publishing    Publishing      EUR  2015-11-20  1600.0   \n",
       "\n",
       "                   launched  pledged      state  backers country  usd pledged  \\\n",
       "169     2014-08-06 21:28:36   555.00  undefined        0    N,0\"          NaN   \n",
       "328     2015-08-04 12:05:17  4767.00  undefined        0    N,0\"          NaN   \n",
       "632     2015-03-10 20:06:13  3576.00  undefined        0    N,0\"          NaN   \n",
       "647     2015-11-02 22:09:19  7007.80  undefined        0    N,0\"          NaN   \n",
       "749     2016-02-23 03:09:49  3660.38  undefined        0    N,0\"          NaN   \n",
       "...                     ...      ...        ...      ...     ...          ...   \n",
       "378233  2014-12-05 04:19:14    10.00  undefined        0    N,0\"          NaN   \n",
       "378303  2014-04-08 00:30:09  3102.00  undefined        0    N,0\"          NaN   \n",
       "378434  2016-01-06 21:59:23   235.00  undefined        0    N,0\"          NaN   \n",
       "378585  2015-09-21 22:33:18  2125.00  undefined        0    N,0\"          NaN   \n",
       "378588  2015-10-21 21:28:13     0.00  undefined        0    N,0\"          NaN   \n",
       "\n",
       "        usd_pledged_real  usd_goal_real  \n",
       "169               555.00        6500.00  \n",
       "328              3402.08        3211.53  \n",
       "632              3576.00        3500.00  \n",
       "647              7007.80        6000.00  \n",
       "749              3660.38        3000.00  \n",
       "...                  ...            ...  \n",
       "378233             10.00        7500.00  \n",
       "378303           2845.61        2752.04  \n",
       "378434            235.00        5000.00  \n",
       "378585           3273.36        3080.81  \n",
       "378588              0.00        1710.08  \n",
       "\n",
       "[3797 rows x 15 columns]"
      ]
     },
     "execution_count": 7,
     "metadata": {},
     "output_type": "execute_result"
    }
   ],
   "source": [
    "# df_usd_pledged_null: rows with \"usd_pledged\" NaN values\n",
    "df_usd_pledged_null = df.iloc[usd_pledged_null.index]\n",
    "df_usd_pledged_null"
   ]
  },
  {
   "cell_type": "markdown",
   "metadata": {},
   "source": [
    "It seems that none of these projects have a valid country name:"
   ]
  },
  {
   "cell_type": "code",
   "execution_count": 8,
   "metadata": {},
   "outputs": [
    {
     "name": "stdout",
     "output_type": "stream",
     "text": [
      "Number of projects with weird country names: 3797\n",
      "Number of countries found for the null values in \"usd_pledge\": 1\n"
     ]
    }
   ],
   "source": [
    "#Are all of the projects with NaN values from the same country?\n",
    "print('Number of projects with weird country names:', len(df_usd_pledged_null.country))\n",
    "print('Number of countries found for the null values in \"usd_pledge\":', \n",
    "      len(df_usd_pledged_null.country.unique())\n",
    "     )"
   ]
  },
  {
   "cell_type": "code",
   "execution_count": 9,
   "metadata": {},
   "outputs": [
    {
     "name": "stdout",
     "output_type": "stream",
     "text": [
      "Weird \"country\" found: N,0\"\n"
     ]
    }
   ],
   "source": [
    "#What is this weird country?\n",
    "print('Weird \"country\" found:', df_usd_pledged_null.country.unique()[0])"
   ]
  },
  {
   "cell_type": "markdown",
   "metadata": {},
   "source": [
    "We can see that these NaN values are product of a bad conversion of pledge amounts, since it was calculated on an inexistent country. This is the reason for the \"real\" part in __usd_pledged_real__ (presumably the __usd_pledged_real__ column calculate the conversion with the country column instead of currency). Hence, we can drop __usd pledged__ column:"
   ]
  },
  {
   "cell_type": "code",
   "execution_count": 10,
   "metadata": {},
   "outputs": [],
   "source": [
    "df.drop(columns=['usd pledged'], inplace=True)"
   ]
  },
  {
   "cell_type": "markdown",
   "metadata": {},
   "source": [
    "Just in case, let´s confirm there are no other weird countries:"
   ]
  },
  {
   "cell_type": "code",
   "execution_count": 11,
   "metadata": {},
   "outputs": [
    {
     "data": {
      "text/plain": [
       "US      292627\n",
       "GB       33672\n",
       "CA       14756\n",
       "AU        7839\n",
       "DE        4171\n",
       "N,0\"      3797\n",
       "FR        2939\n",
       "IT        2878\n",
       "NL        2868\n",
       "ES        2276\n",
       "SE        1757\n",
       "MX        1752\n",
       "NZ        1447\n",
       "DK        1113\n",
       "IE         811\n",
       "CH         761\n",
       "NO         708\n",
       "HK         618\n",
       "BE         617\n",
       "AT         597\n",
       "SG         555\n",
       "LU          62\n",
       "JP          40\n",
       "Name: country, dtype: int64"
      ]
     },
     "execution_count": 11,
     "metadata": {},
     "output_type": "execute_result"
    }
   ],
   "source": [
    "df.country.value_counts()"
   ]
  },
  {
   "cell_type": "markdown",
   "metadata": {},
   "source": [
    "There are no more weird countries indeed. Are there more categorical data in the dataset? More weird values?:"
   ]
  },
  {
   "cell_type": "code",
   "execution_count": 12,
   "metadata": {},
   "outputs": [
    {
     "name": "stdout",
     "output_type": "stream",
     "text": [
      "Number of values in \"category\" column: 159\n"
     ]
    }
   ],
   "source": [
    "# Unique project categories:\n",
    "print('Number of values in \"category\" column:',len(df.category.unique()))"
   ]
  },
  {
   "cell_type": "code",
   "execution_count": 13,
   "metadata": {},
   "outputs": [
    {
     "name": "stdout",
     "output_type": "stream",
     "text": [
      "Number of values in \"main_category\" column: 15\n",
      "\n",
      "Values: ['Publishing' 'Film & Video' 'Music' 'Food' 'Design' 'Crafts' 'Games'\n",
      " 'Comics' 'Fashion' 'Theater' 'Art' 'Photography' 'Technology' 'Dance'\n",
      " 'Journalism']\n"
     ]
    }
   ],
   "source": [
    "# Unique project main categories:\n",
    "print('Number of values in \"main_category\" column:',\n",
    "      len(df.main_category.unique())\n",
    "     )\n",
    "print(\"\")\n",
    "print('Values:', df.main_category.unique())"
   ]
  },
  {
   "cell_type": "code",
   "execution_count": 14,
   "metadata": {},
   "outputs": [
    {
     "name": "stdout",
     "output_type": "stream",
     "text": [
      "Number of values in \"currency\" column: 14\n",
      "\n",
      "Values: ['GBP' 'USD' 'CAD' 'AUD' 'NOK' 'EUR' 'MXN' 'SEK' 'NZD' 'CHF' 'DKK' 'HKD'\n",
      " 'SGD' 'JPY']\n"
     ]
    }
   ],
   "source": [
    "# Unique currencies:\n",
    "print('Number of values in \"currency\" column:',len(df.currency.unique()))\n",
    "print(\"\")\n",
    "print('Values:', df.currency.unique())"
   ]
  },
  {
   "cell_type": "code",
   "execution_count": 15,
   "metadata": {},
   "outputs": [
    {
     "name": "stdout",
     "output_type": "stream",
     "text": [
      "Number of values in \"state\" column: 6\n",
      "\n",
      "Values: ['failed' 'canceled' 'successful' 'live' 'undefined' 'suspended']\n"
     ]
    }
   ],
   "source": [
    "# Unique project states:\n",
    "print('Number of values in \"state\" column:',len(df.state.unique()))\n",
    "print(\"\")\n",
    "print('Values:', df.state.unique())"
   ]
  },
  {
   "cell_type": "markdown",
   "metadata": {},
   "source": [
    "Also, we can confirm that the columns with date information (__deadline__ and __launched__) have date consistent format and corresponds to actual past years, months and days:"
   ]
  },
  {
   "cell_type": "code",
   "execution_count": 16,
   "metadata": {},
   "outputs": [],
   "source": [
    "def verify_date_format(string):\n",
    "    \"\"\"Verifies if a string have a correct date format and sound information.\n",
    "        Args:\n",
    "        string (str): string with presumed datetime format\n",
    "        \n",
    "        Return:\n",
    "        True, False (bool): If True, the string has datetime format\n",
    "    \"\"\"\n",
    "    date = re.search(r'(\\d{4}-\\d{2}-\\d{2})', string)[0]\n",
    "    date_list = date.split('-')\n",
    "    year = int(date_list[0])\n",
    "    month = int(date_list[1])\n",
    "    day = int(date_list[2])\n",
    "    if (re.search(r'(\\d{4}-\\d{2}-\\d{2})', date) and # Verify the year-month-day format\n",
    "            year <= 2019 and month <= 12 and day <= 31): # Verify there is no weird dates\n",
    "        return True\n",
    "    else:\n",
    "        return False"
   ]
  },
  {
   "cell_type": "code",
   "execution_count": 17,
   "metadata": {},
   "outputs": [
    {
     "name": "stdout",
     "output_type": "stream",
     "text": [
      "\"deadline\" column have consistent date info.\n"
     ]
    }
   ],
   "source": [
    "#Verifies \"deadline\" data format\n",
    "if df.deadline.apply(verify_date_format).mean() == 1.0:\n",
    "    print('\"deadline\" column have consistent date info.')"
   ]
  },
  {
   "cell_type": "code",
   "execution_count": 18,
   "metadata": {},
   "outputs": [
    {
     "name": "stdout",
     "output_type": "stream",
     "text": [
      "\"launched\" column have consistent date info.\n"
     ]
    }
   ],
   "source": [
    "#Verifies \"launched\" data format\n",
    "if df.launched.apply(verify_date_format).mean() == 1.0:\n",
    "    print('\"launched\" column have consistent date info.')"
   ]
  },
  {
   "cell_type": "markdown",
   "metadata": {},
   "source": [
    "All dates info seems correct."
   ]
  },
  {
   "cell_type": "markdown",
   "metadata": {},
   "source": [
    "In order to find any time related pattern in subsequent analysis, I have to convert the date info to a data type that makes possible work on them:"
   ]
  },
  {
   "cell_type": "code",
   "execution_count": 19,
   "metadata": {},
   "outputs": [
    {
     "name": "stdout",
     "output_type": "stream",
     "text": [
      "First project on the dataset was launched on Jan 01, 1970\n",
      "Last project on the dataset was launched on Jan 02, 2018\n",
      " \n",
      "First project's deadline: May 03, 2009\n",
      "Last project's deadline: Mar 03, 2018\n"
     ]
    }
   ],
   "source": [
    "# Convert \"deadline\" and \"launched\" to datetime object series:\n",
    "datetime_deadline = pd.to_datetime(df[\"deadline\"], format='%Y-%m-%d')\n",
    "df[\"deadline\"] = datetime_deadline\n",
    "\n",
    "\n",
    "datetime_launched = pd.to_datetime(df[\"launched\"], format='%Y-%m-%d %H:%M:%S')\n",
    "df[\"launched\"] = datetime_launched\n",
    "\n",
    "print('First project on the dataset was launched on', df.launched.describe()['first'].strftime('%b %d, %Y'))\n",
    "print('Last project on the dataset was launched on', df.launched.describe()['last'].strftime('%b %d, %Y'))\n",
    "print(' ')\n",
    "print('First project\\'s deadline:', df.deadline.describe()['first'].strftime('%b %d, %Y'))\n",
    "print('Last project\\'s deadline:', df.deadline.describe()['last'].strftime('%b %d, %Y'))"
   ]
  },
  {
   "cell_type": "markdown",
   "metadata": {},
   "source": [
    "Wait, that first project launch date is weird. We must see the details of this/these projects: "
   ]
  },
  {
   "cell_type": "code",
   "execution_count": 20,
   "metadata": {},
   "outputs": [
    {
     "data": {
      "text/html": [
       "<div>\n",
       "<style scoped>\n",
       "    .dataframe tbody tr th:only-of-type {\n",
       "        vertical-align: middle;\n",
       "    }\n",
       "\n",
       "    .dataframe tbody tr th {\n",
       "        vertical-align: top;\n",
       "    }\n",
       "\n",
       "    .dataframe thead th {\n",
       "        text-align: right;\n",
       "    }\n",
       "</style>\n",
       "<table border=\"1\" class=\"dataframe\">\n",
       "  <thead>\n",
       "    <tr style=\"text-align: right;\">\n",
       "      <th></th>\n",
       "      <th>ID</th>\n",
       "      <th>name</th>\n",
       "      <th>category</th>\n",
       "      <th>main_category</th>\n",
       "      <th>currency</th>\n",
       "      <th>deadline</th>\n",
       "      <th>goal</th>\n",
       "      <th>launched</th>\n",
       "      <th>pledged</th>\n",
       "      <th>state</th>\n",
       "      <th>backers</th>\n",
       "      <th>country</th>\n",
       "      <th>usd_pledged_real</th>\n",
       "      <th>usd_goal_real</th>\n",
       "    </tr>\n",
       "  </thead>\n",
       "  <tbody>\n",
       "    <tr>\n",
       "      <th>2842</th>\n",
       "      <td>1014746686</td>\n",
       "      <td>Salt of the Earth: A Dead Sea Movie (Canceled)</td>\n",
       "      <td>Film &amp; Video</td>\n",
       "      <td>Film &amp; Video</td>\n",
       "      <td>USD</td>\n",
       "      <td>2010-09-15</td>\n",
       "      <td>5000.0</td>\n",
       "      <td>1970-01-01 01:00:00</td>\n",
       "      <td>0.0</td>\n",
       "      <td>canceled</td>\n",
       "      <td>0</td>\n",
       "      <td>US</td>\n",
       "      <td>0.0</td>\n",
       "      <td>5000.00</td>\n",
       "    </tr>\n",
       "    <tr>\n",
       "      <th>48147</th>\n",
       "      <td>1245461087</td>\n",
       "      <td>1st Super-Size Painting - Social Network Owned...</td>\n",
       "      <td>Art</td>\n",
       "      <td>Art</td>\n",
       "      <td>USD</td>\n",
       "      <td>2010-08-14</td>\n",
       "      <td>15000.0</td>\n",
       "      <td>1970-01-01 01:00:00</td>\n",
       "      <td>0.0</td>\n",
       "      <td>canceled</td>\n",
       "      <td>0</td>\n",
       "      <td>US</td>\n",
       "      <td>0.0</td>\n",
       "      <td>15000.00</td>\n",
       "    </tr>\n",
       "    <tr>\n",
       "      <th>75397</th>\n",
       "      <td>1384087152</td>\n",
       "      <td>\"ICHOR\"  (Canceled)</td>\n",
       "      <td>Film &amp; Video</td>\n",
       "      <td>Film &amp; Video</td>\n",
       "      <td>USD</td>\n",
       "      <td>2010-05-21</td>\n",
       "      <td>700.0</td>\n",
       "      <td>1970-01-01 01:00:00</td>\n",
       "      <td>0.0</td>\n",
       "      <td>canceled</td>\n",
       "      <td>0</td>\n",
       "      <td>US</td>\n",
       "      <td>0.0</td>\n",
       "      <td>700.00</td>\n",
       "    </tr>\n",
       "    <tr>\n",
       "      <th>94579</th>\n",
       "      <td>1480763647</td>\n",
       "      <td>Support Solo Theater! Help \"Ungrateful Daughte...</td>\n",
       "      <td>Theater</td>\n",
       "      <td>Theater</td>\n",
       "      <td>USD</td>\n",
       "      <td>2010-06-01</td>\n",
       "      <td>4000.0</td>\n",
       "      <td>1970-01-01 01:00:00</td>\n",
       "      <td>0.0</td>\n",
       "      <td>canceled</td>\n",
       "      <td>0</td>\n",
       "      <td>US</td>\n",
       "      <td>0.0</td>\n",
       "      <td>4000.00</td>\n",
       "    </tr>\n",
       "    <tr>\n",
       "      <th>247913</th>\n",
       "      <td>330942060</td>\n",
       "      <td>Help RIZ Make A Charity Album: 8 Songs, 8 Caus...</td>\n",
       "      <td>Music</td>\n",
       "      <td>Music</td>\n",
       "      <td>USD</td>\n",
       "      <td>2010-05-04</td>\n",
       "      <td>10000.0</td>\n",
       "      <td>1970-01-01 01:00:00</td>\n",
       "      <td>0.0</td>\n",
       "      <td>canceled</td>\n",
       "      <td>0</td>\n",
       "      <td>US</td>\n",
       "      <td>0.0</td>\n",
       "      <td>10000.00</td>\n",
       "    </tr>\n",
       "    <tr>\n",
       "      <th>273779</th>\n",
       "      <td>462917959</td>\n",
       "      <td>Identity Communications Infographic (Canceled)</td>\n",
       "      <td>Design</td>\n",
       "      <td>Design</td>\n",
       "      <td>USD</td>\n",
       "      <td>2010-04-10</td>\n",
       "      <td>500.0</td>\n",
       "      <td>1970-01-01 01:00:00</td>\n",
       "      <td>0.0</td>\n",
       "      <td>canceled</td>\n",
       "      <td>0</td>\n",
       "      <td>US</td>\n",
       "      <td>0.0</td>\n",
       "      <td>500.00</td>\n",
       "    </tr>\n",
       "    <tr>\n",
       "      <th>319002</th>\n",
       "      <td>69489148</td>\n",
       "      <td>Student Auditions Music 2015</td>\n",
       "      <td>Publishing</td>\n",
       "      <td>Publishing</td>\n",
       "      <td>CHF</td>\n",
       "      <td>2015-10-31</td>\n",
       "      <td>1900.0</td>\n",
       "      <td>1970-01-01 01:00:00</td>\n",
       "      <td>0.0</td>\n",
       "      <td>suspended</td>\n",
       "      <td>0</td>\n",
       "      <td>CH</td>\n",
       "      <td>0.0</td>\n",
       "      <td>1905.97</td>\n",
       "    </tr>\n",
       "  </tbody>\n",
       "</table>\n",
       "</div>"
      ],
      "text/plain": [
       "                ID                                               name  \\\n",
       "2842    1014746686     Salt of the Earth: A Dead Sea Movie (Canceled)   \n",
       "48147   1245461087  1st Super-Size Painting - Social Network Owned...   \n",
       "75397   1384087152                                \"ICHOR\"  (Canceled)   \n",
       "94579   1480763647  Support Solo Theater! Help \"Ungrateful Daughte...   \n",
       "247913   330942060  Help RIZ Make A Charity Album: 8 Songs, 8 Caus...   \n",
       "273779   462917959     Identity Communications Infographic (Canceled)   \n",
       "319002    69489148                       Student Auditions Music 2015   \n",
       "\n",
       "            category main_category currency   deadline     goal  \\\n",
       "2842    Film & Video  Film & Video      USD 2010-09-15   5000.0   \n",
       "48147            Art           Art      USD 2010-08-14  15000.0   \n",
       "75397   Film & Video  Film & Video      USD 2010-05-21    700.0   \n",
       "94579        Theater       Theater      USD 2010-06-01   4000.0   \n",
       "247913         Music         Music      USD 2010-05-04  10000.0   \n",
       "273779        Design        Design      USD 2010-04-10    500.0   \n",
       "319002    Publishing    Publishing      CHF 2015-10-31   1900.0   \n",
       "\n",
       "                  launched  pledged      state  backers country  \\\n",
       "2842   1970-01-01 01:00:00      0.0   canceled        0      US   \n",
       "48147  1970-01-01 01:00:00      0.0   canceled        0      US   \n",
       "75397  1970-01-01 01:00:00      0.0   canceled        0      US   \n",
       "94579  1970-01-01 01:00:00      0.0   canceled        0      US   \n",
       "247913 1970-01-01 01:00:00      0.0   canceled        0      US   \n",
       "273779 1970-01-01 01:00:00      0.0   canceled        0      US   \n",
       "319002 1970-01-01 01:00:00      0.0  suspended        0      CH   \n",
       "\n",
       "        usd_pledged_real  usd_goal_real  \n",
       "2842                 0.0        5000.00  \n",
       "48147                0.0       15000.00  \n",
       "75397                0.0         700.00  \n",
       "94579                0.0        4000.00  \n",
       "247913               0.0       10000.00  \n",
       "273779               0.0         500.00  \n",
       "319002               0.0        1905.97  "
      ]
     },
     "execution_count": 20,
     "metadata": {},
     "output_type": "execute_result"
    }
   ],
   "source": [
    "# df rows with projects launched in 1970\n",
    "df[df.launched == df.launched.describe()['first']]"
   ]
  },
  {
   "cell_type": "markdown",
   "metadata": {},
   "source": [
    "None of these projects seems to be a 70´s project (besides the fact that Kickstarter was launched in 2009). Because there are very few projects with this problem compared to the total amount, we can get rid of them for later time series analysis in a new dataframe __df_fixed__:"
   ]
  },
  {
   "cell_type": "code",
   "execution_count": 21,
   "metadata": {},
   "outputs": [
    {
     "name": "stdout",
     "output_type": "stream",
     "text": [
      "First project on the fixed dataset was launched on Apr 21, 2009\n"
     ]
    }
   ],
   "source": [
    "df_fixed = df[~(df.launched == df.launched.describe()['first'])]\n",
    "# Verifies again that launch dates are sound now\n",
    "print('First project on the fixed dataset was launched on', \n",
    "      df_fixed.launched.describe()['first'].strftime('%b %d, %Y')\n",
    "     )"
   ]
  },
  {
   "cell_type": "markdown",
   "metadata": {},
   "source": [
    "Finally, I convert the __category__, __main_category__, __state__ and __country__ columns data type to categorical for performance enhance:  "
   ]
  },
  {
   "cell_type": "code",
   "execution_count": 23,
   "metadata": {},
   "outputs": [
    {
     "name": "stdout",
     "output_type": "stream",
     "text": [
      "<class 'pandas.core.frame.DataFrame'>\n",
      "Int64Index: 378654 entries, 0 to 378660\n",
      "Data columns (total 14 columns):\n",
      " #   Column            Non-Null Count   Dtype         \n",
      "---  ------            --------------   -----         \n",
      " 0   ID                378654 non-null  int64         \n",
      " 1   name              378650 non-null  object        \n",
      " 2   category          378654 non-null  category      \n",
      " 3   main_category     378654 non-null  category      \n",
      " 4   currency          378654 non-null  object        \n",
      " 5   deadline          378654 non-null  datetime64[ns]\n",
      " 6   goal              378654 non-null  float64       \n",
      " 7   launched          378654 non-null  datetime64[ns]\n",
      " 8   pledged           378654 non-null  float64       \n",
      " 9   state             378654 non-null  category      \n",
      " 10  backers           378654 non-null  int64         \n",
      " 11  country           378654 non-null  category      \n",
      " 12  usd_pledged_real  378654 non-null  float64       \n",
      " 13  usd_goal_real     378654 non-null  float64       \n",
      "dtypes: category(4), datetime64[ns](2), float64(4), int64(2), object(2)\n",
      "memory usage: 33.6+ MB\n"
     ]
    }
   ],
   "source": [
    "df_fixed.loc[:, 'main_category'] = df_fixed.loc[:, 'main_category'].astype('category')\n",
    "df_fixed.loc[:, 'category'] = df_fixed.loc[:, 'category'].astype('category')\n",
    "df_fixed.loc[:, 'country'] = df_fixed.loc[:, 'country'].astype('category')\n",
    "df_fixed.loc[:,'state'] = df_fixed.loc[:, 'state'].astype('category')\n",
    "df_fixed.info()"
   ]
  },
  {
   "cell_type": "markdown",
   "metadata": {},
   "source": [
    "\n",
    "\n",
    "Alright, generally speaking, it seems that the dataset is ready for bring us answers!"
   ]
  },
  {
   "cell_type": "markdown",
   "metadata": {},
   "source": [
    "## Question 1: What are the most successful, failed and canceled kind of projects?"
   ]
  },
  {
   "cell_type": "markdown",
   "metadata": {},
   "source": [
    "#### Distribution of projects:\n",
    "In order to see a panoramic view of the different projects on the platform, we can plot its distribution over the  categories they belong:"
   ]
  },
  {
   "cell_type": "code",
   "execution_count": 24,
   "metadata": {},
   "outputs": [
    {
     "data": {
      "image/png": "[encoded data removed]",
      "text/plain": [
       "<Figure size 432x288 with 1 Axes>"
      ]
     },
     "metadata": {},
     "output_type": "display_data"
    }
   ],
   "source": [
    "#Distribution of all the projects registered in the dataset, per project category:\n",
    "df_fixed.main_category.astype('category')\n",
    "projects_per_cat = df_fixed.groupby('main_category').ID.count().sort_values(ascending=False)\n",
    "\n",
    "#Plot:\n",
    "sns.set(style=\"darkgrid\")\n",
    "sns.set_color_codes(\"muted\")\n",
    "sns.barplot(projects_per_cat.values, list(projects_per_cat.index), color='b')\n",
    "plt.title('Projects launched to January of 2018')\n",
    "plt.xlabel('Projects launched')\n",
    "plt.ylabel('Project Type')\n",
    "plt.xticks(rotation=45)\n",
    "plt.tight_layout()\n",
    "plt.savefig('projects_launched.png', dpi=150, bbox_inches='tight')"
   ]
  },
  {
   "cell_type": "markdown",
   "metadata": {},
   "source": [
    "We can see a notorious diversity of projects, where a remarkable supply of audiovisual projects stands out.  What data can tell us about their success or failure? "
   ]
  },
  {
   "cell_type": "code",
   "execution_count": 25,
   "metadata": {
    "scrolled": true
   },
   "outputs": [
    {
     "name": "stdout",
     "output_type": "stream",
     "text": [
      "Projects count, according to its funding state:\n",
      " \n",
      "Succesful projects: 133956 (35.38%)\n",
      " \n",
      "Failed projects: 197719 (52.22%)\n",
      " \n",
      "Canceled projects: 38773 (10.24%)\n"
     ]
    }
   ],
   "source": [
    "# Amount of projects launched according to its funding state\n",
    "print('Projects count, according to its funding state:')\n",
    "\n",
    "print(\" \")\n",
    "\n",
    "print('Succesful projects: {} ({}%)'.format(df_fixed.state.value_counts().loc['successful'],\n",
    "                                        round(df_fixed.state.value_counts().loc['successful']*100/\n",
    "                                        df_fixed.shape[0],2)))\n",
    "print(\" \")\n",
    "\n",
    "print('Failed projects: {} ({}%)'.format(df_fixed.state.value_counts().loc['failed'],\n",
    "                                        round(df_fixed.state.value_counts().loc['failed']*100/\n",
    "                                        df_fixed.shape[0],2)))\n",
    "\n",
    "print(\" \")\n",
    "\n",
    "print('Canceled projects: {} ({}%)'.format(df_fixed.state.value_counts().loc['canceled'],\n",
    "                                        round(df_fixed.state.value_counts().loc['canceled']*100/\n",
    "                                        df_fixed.shape[0],2)))"
   ]
  },
  {
   "cell_type": "markdown",
   "metadata": {},
   "source": [
    "What about the performance of each type of project? We can group each project category according its pledge state:"
   ]
  },
  {
   "cell_type": "code",
   "execution_count": 26,
   "metadata": {
    "scrolled": true
   },
   "outputs": [
    {
     "name": "stdout",
     "output_type": "stream",
     "text": [
      "Projects count, according to its type and funding state:\n"
     ]
    },
    {
     "data": {
      "text/plain": [
       "state      main_category\n",
       "canceled   Art              2221.0\n",
       "           Comics            842.0\n",
       "           Crafts            843.0\n",
       "           Dance             163.0\n",
       "           Design           4151.0\n",
       "                             ...  \n",
       "undefined  Music            2234.0\n",
       "           Photography         1.0\n",
       "           Publishing        462.0\n",
       "           Technology          3.0\n",
       "           Theater             1.0\n",
       "Name: ID, Length: 90, dtype: float64"
      ]
     },
     "execution_count": 26,
     "metadata": {},
     "output_type": "execute_result"
    }
   ],
   "source": [
    "# Amount of projects launched according its kind and funding state\n",
    "print('Projects count, according to its type and funding state:')\n",
    "projects_per_cat_state = df_fixed.groupby(['state', 'main_category']).count()['ID']\n",
    "projects_per_cat_state"
   ]
  },
  {
   "cell_type": "code",
   "execution_count": 27,
   "metadata": {},
   "outputs": [
    {
     "name": "stdout",
     "output_type": "stream",
     "text": [
      "Most successful kinds of project:\n"
     ]
    },
    {
     "data": {
      "text/plain": [
       "Dance           62.05 %\n",
       "Theater         59.87 %\n",
       "Comics           54.0 %\n",
       "Music           46.61 %\n",
       "Art             40.88 %\n",
       "Film & Video    37.15 %\n",
       "Games           35.53 %\n",
       "Design          35.08 %\n",
       "Publishing      30.85 %\n",
       "Photography     30.66 %\n",
       "Food            24.73 %\n",
       "Fashion         24.51 %\n",
       "Crafts          24.01 %\n",
       "Journalism      21.28 %\n",
       "Technology      19.75 %\n",
       "dtype: object"
      ]
     },
     "execution_count": 27,
     "metadata": {},
     "output_type": "execute_result"
    }
   ],
   "source": [
    "# Most succesful kind of project:\n",
    "most_succesful_series = (projects_per_cat_state.loc[('successful', )] / \n",
    "                         df.main_category.value_counts()\n",
    "                        ).sort_values(ascending=False).apply(\n",
    "                        lambda x: str(round(x*100, 2)).format('.%s')+' %')\n",
    "print('Most successful kinds of project:')\n",
    "most_succesful_series"
   ]
  },
  {
   "cell_type": "markdown",
   "metadata": {},
   "source": [
    "Although there are relatively few escenic projects, they are very succesful at get funded!. Same applies for art and comics projects."
   ]
  },
  {
   "cell_type": "code",
   "execution_count": 28,
   "metadata": {},
   "outputs": [
    {
     "name": "stdout",
     "output_type": "stream",
     "text": [
      "Most failed kinds of project:\n"
     ]
    },
    {
     "data": {
      "text/plain": [
       "Journalism      65.97 %\n",
       "Food            64.91 %\n",
       "Crafts          64.74 %\n",
       "Technology       63.3 %\n",
       "Fashion         62.16 %\n",
       "Photography     59.23 %\n",
       "Publishing      58.05 %\n",
       "Film & Video    51.75 %\n",
       "Art             50.19 %\n",
       "Design          49.27 %\n",
       "Games           45.42 %\n",
       "Music            41.9 %\n",
       "Comics           37.3 %\n",
       "Theater         33.98 %\n",
       "Dance           32.78 %\n",
       "dtype: object"
      ]
     },
     "execution_count": 28,
     "metadata": {},
     "output_type": "execute_result"
    }
   ],
   "source": [
    "# Most failed kind of project:\n",
    "most_failed_series = (projects_per_cat_state.loc[('failed', )] / \n",
    "                      df.main_category.value_counts()\n",
    "                     ).sort_values(ascending=False).apply(\n",
    "                     lambda x: str(round(x*100, 2)).format('.%s')+' %')\n",
    "print('Most failed kinds of project:')\n",
    "most_failed_series"
   ]
  },
  {
   "cell_type": "markdown",
   "metadata": {},
   "source": [
    "Taking into account the last two data tables, Technology and Journalism projects seem to appear as a particularly difficult type of projects to get funded."
   ]
  },
  {
   "cell_type": "code",
   "execution_count": 29,
   "metadata": {},
   "outputs": [
    {
     "name": "stdout",
     "output_type": "stream",
     "text": [
      "Most canceled kinds of project:\n"
     ]
    },
    {
     "data": {
      "text/plain": [
       "Games            17.6 %\n",
       "Technology      14.48 %\n",
       "Design           13.8 %\n",
       "Fashion         11.61 %\n",
       "Journalism       11.0 %\n",
       "Crafts           9.57 %\n",
       "Photography      9.15 %\n",
       "Film & Video     9.05 %\n",
       "Publishing       9.03 %\n",
       "Food             8.99 %\n",
       "Art              7.89 %\n",
       "Comics           7.78 %\n",
       "Music            6.36 %\n",
       "Theater          5.56 %\n",
       "Dance            4.33 %\n",
       "dtype: object"
      ]
     },
     "execution_count": 29,
     "metadata": {},
     "output_type": "execute_result"
    }
   ],
   "source": [
    "# Most canceled kind of project:\n",
    "most_canceled_series = (projects_per_cat_state.loc[('canceled', )] / \n",
    "                        df.main_category.value_counts()\n",
    "                       ).sort_values(ascending=False).apply(\n",
    "                       lambda x: str(round(x*100, 2)).format('.%s')+' %') \n",
    "\n",
    "print('Most canceled kinds of project:')\n",
    "most_canceled_series"
   ]
  },
  {
   "cell_type": "markdown",
   "metadata": {},
   "source": [
    "Canceled projects referred to projects that drop their intend to be funded before deadline. What could be the reason of so many games die before funding? is a good question for later analysis."
   ]
  },
  {
   "cell_type": "markdown",
   "metadata": {},
   "source": [
    "## Question 2: Is there any seasonality on project launches?"
   ]
  },
  {
   "cell_type": "markdown",
   "metadata": {},
   "source": [
    "Launch timing seems to be a important factor to get a project funded. Can we see any tendency in the period of time a project is searching for funding or the most fruitful season for crowdfunding? Let's find out.\n",
    "\n",
    "As a first step, I create a new column __time_on_pledge__ where we can see the amount of time the project where intended to collect funds: "
   ]
  },
  {
   "cell_type": "code",
   "execution_count": 31,
   "metadata": {},
   "outputs": [
    {
     "data": {
      "text/plain": [
       "0   58 days 11:47:32\n",
       "1   59 days 19:16:03\n",
       "2   44 days 23:39:10\n",
       "3   29 days 20:35:49\n",
       "4   55 days 15:24:57\n",
       "Name: expected_time_on_pledge, dtype: timedelta64[ns]"
      ]
     },
     "execution_count": 31,
     "metadata": {},
     "output_type": "execute_result"
    }
   ],
   "source": [
    "# New column with period between launch and deadline:\n",
    "df_fixed.loc[:,'expected_time_on_pledge'] = df_fixed['deadline'] - df_fixed['launched']\n",
    "df_fixed['expected_time_on_pledge'].head()"
   ]
  },
  {
   "cell_type": "markdown",
   "metadata": {},
   "source": [
    "Now we can know the mean period of pledge time intended by the creator per main category:"
   ]
  },
  {
   "cell_type": "code",
   "execution_count": 32,
   "metadata": {},
   "outputs": [
    {
     "name": "stdout",
     "output_type": "stream",
     "text": [
      "main_category\n",
      "Art             32 days\n",
      "Comics          33 days\n",
      "Crafts          31 days\n",
      "Dance           32 days\n",
      "Design          33 days\n",
      "Fashion         32 days\n",
      "Film & Video    34 days\n",
      "Food            33 days\n",
      "Games           31 days\n",
      "Journalism      33 days\n",
      "Music           34 days\n",
      "Photography     33 days\n",
      "Publishing      33 days\n",
      "Technology      34 days\n",
      "Theater         33 days\n",
      "Name: expected_time_on_pledge, dtype: object\n",
      " \n",
      " \n",
      "Mean pledge time period for project category: 33 days (std: 1 day)\n"
     ]
    }
   ],
   "source": [
    "# Mean amount of time between launch and deadline intended by project category:\n",
    "mean_pledged_time_category = df_fixed.groupby('main_category').expected_time_on_pledge.mean(numeric_only=False)\n",
    "\n",
    "print(mean_pledged_time_category.dt.days.apply(lambda x: str(x) + ' days'))\n",
    "\n",
    "print(' ')\n",
    "print(' ')\n",
    "\n",
    "print('Mean pledge time period for project category: {} days (std: {} day)'.format(\n",
    "        mean_pledged_time_category.describe()['mean'].days,\n",
    "        mean_pledged_time_category.describe()['std'].days)\n",
    "     )"
   ]
  },
  {
   "cell_type": "markdown",
   "metadata": {},
   "source": [
    "And for sub-category:"
   ]
  },
  {
   "cell_type": "code",
   "execution_count": 33,
   "metadata": {},
   "outputs": [
    {
     "name": "stdout",
     "output_type": "stream",
     "text": [
      "category\n",
      "3D Printing    33 days\n",
      "Academic       34 days\n",
      "Accessories    30 days\n",
      "Action         35 days\n",
      "Animals        30 days\n",
      "                ...   \n",
      "Woodworking    30 days\n",
      "Workshops      32 days\n",
      "World Music    35 days\n",
      "Young Adult    32 days\n",
      "Zines          30 days\n",
      "Name: expected_time_on_pledge, Length: 159, dtype: object\n",
      " \n",
      "Mean pledge time period for project sub-category: 33 days (std: 1 day)\n"
     ]
    }
   ],
   "source": [
    "# Mean amount of time between launch and deadline intended by project sub-category:\n",
    "mean_pledged_time_subcategory = df_fixed.groupby('category').expected_time_on_pledge.mean(numeric_only=False)\n",
    "\n",
    "print(mean_pledged_time_subcategory.dt.days.apply(lambda x: str(x) + ' days'))\n",
    "\n",
    "print(' ')\n",
    "\n",
    "print('Mean pledge time period for project sub-category: {} days (std: {} day)'.format(\n",
    "        mean_pledged_time_subcategory.describe()['mean'].days, \n",
    "        mean_pledged_time_subcategory.describe()['std'].days)\n",
    "     )"
   ]
  },
  {
   "cell_type": "markdown",
   "metadata": {},
   "source": [
    "As we can see, projects tend to hold on the platform for around a month, no matter what type they belong. But what about seasonality? Are there more projects launched on certain parts of the year? "
   ]
  },
  {
   "cell_type": "code",
   "execution_count": 34,
   "metadata": {},
   "outputs": [
    {
     "data": {
      "image/png": "[encoded data removed]",
      "text/plain": [
       "<Figure size 432x288 with 1 Axes>"
      ]
     },
     "metadata": {},
     "output_type": "display_data"
    }
   ],
   "source": [
    "# What are the months with most/less projects launched?:\n",
    "projects_per_month = df.groupby([df['launched'].dt.month]).count()['category']\n",
    "projects_per_month.index = [calendar.month_name[i] for i in projects_per_month.index]\n",
    "\n",
    "#Plot\n",
    "sns.set(style=\"whitegrid\")\n",
    "sns.barplot(projects_per_month.index, projects_per_month.values)\n",
    "plt.ylim(20000, 40000)\n",
    "plt.ylabel('Projects launched')\n",
    "plt.xticks(rotation=60)\n",
    "plt.tight_layout()\n",
    "plt.savefig('projects_seasonality.png', dpi=150, bbox_inches='tight')"
   ]
  },
  {
   "cell_type": "markdown",
   "metadata": {},
   "source": [
    "Though there are a relatively constant flux of creation and entrepreneurship, it seems that spring and summer is crowfunding season. "
   ]
  },
  {
   "cell_type": "markdown",
   "metadata": {},
   "source": [
    "For further analysis, we can group the launching rate per category too:  "
   ]
  },
  {
   "cell_type": "code",
   "execution_count": 35,
   "metadata": {},
   "outputs": [
    {
     "data": {
      "text/plain": [
       "launched  main_category\n",
       "Apr       Art              2377\n",
       "          Comics            895\n",
       "          Crafts            670\n",
       "          Dance             371\n",
       "          Design           2420\n",
       "                           ... \n",
       "Sep       Music            4070\n",
       "          Photography       878\n",
       "          Publishing       3315\n",
       "          Technology       2837\n",
       "          Theater           829\n",
       "Name: ID, Length: 180, dtype: int64"
      ]
     },
     "execution_count": 35,
     "metadata": {},
     "output_type": "execute_result"
    }
   ],
   "source": [
    "# Group by launch month and category\n",
    "projects_per_mon_cat = df.groupby(\n",
    "                                ([df['launched'].dt.month_name()\n",
    "                                  .str.slice(stop=3),\n",
    "                                  'main_category']\n",
    "                                 )).count()['ID']\n",
    "projects_per_mon_cat"
   ]
  },
  {
   "cell_type": "markdown",
   "metadata": {},
   "source": [
    "For example, What are the most launched categories launched in December?: "
   ]
  },
  {
   "cell_type": "code",
   "execution_count": 36,
   "metadata": {},
   "outputs": [
    {
     "name": "stdout",
     "output_type": "stream",
     "text": [
      "Projects launched in December through 2009-2017:\n",
      " \n",
      "main_category\n",
      "Film & Video    3891\n",
      "Music           3313\n",
      "Publishing      2494\n",
      "Technology      2337\n",
      "Games           1995\n",
      "Design          1938\n",
      "Art             1637\n",
      "Fashion         1496\n",
      "Food            1482\n",
      "Photography      583\n",
      "Theater          562\n",
      "Crafts           522\n",
      "Comics           450\n",
      "Journalism       319\n",
      "Dance            245\n",
      "Name: ID, dtype: int64\n"
     ]
    }
   ],
   "source": [
    "print('Projects launched in December through 2009-2017:')\n",
    "print(\" \")\n",
    "print(projects_per_mon_cat.loc[('Dec', )].sort_values(ascending=False))"
   ]
  },
  {
   "cell_type": "markdown",
   "metadata": {},
   "source": [
    "## Question 3: How the platform and product areas evolved through the years?"
   ]
  },
  {
   "cell_type": "markdown",
   "metadata": {},
   "source": [
    "Now let's get a glance on the performance of each project type through time and, incidentally, the evolution of the platform itself. How different creators seeking funding were discovering the platform?\n",
    "\n",
    "To start, we can group the projects according its launch year and category: "
   ]
  },
  {
   "cell_type": "code",
   "execution_count": 37,
   "metadata": {},
   "outputs": [
    {
     "data": {
      "text/plain": [
       "launched  main_category\n",
       "2009      Art              169\n",
       "          Comics            23\n",
       "          Crafts            11\n",
       "          Dance              8\n",
       "          Design            31\n",
       "                          ... \n",
       "2018      Music             18\n",
       "          Photography        2\n",
       "          Publishing        16\n",
       "          Technology        11\n",
       "          Theater            2\n",
       "Name: ID, Length: 149, dtype: int64"
      ]
     },
     "execution_count": 37,
     "metadata": {},
     "output_type": "execute_result"
    }
   ],
   "source": [
    "# Group projects by launch year and type \n",
    "df = df[~(df.launched == df.launched.describe()['first'])]\n",
    "projects_per_yr_cat = df.groupby(\n",
    "                                [df['launched'].dt.year, 'main_category']\n",
    "                                 ).count()['ID']\n",
    "projects_per_yr_cat"
   ]
  },
  {
   "cell_type": "markdown",
   "metadata": {},
   "source": [
    "This data shows way better info in a plot. But, there are 15 project types, so the plot can get a little crowded/messy. Better, we can group the projects in 6 different product areas: __Design__ that reunites Design, Fashion and Crafted products, __Printed__ that gather Publishing, Comics and Journalism products, Tech and Games products are represented in __Tech__, as Art, Dance and Theater forms the __Scenic__ area. Film & Video, Music and Photography are grouped in __Audiovisual__. __Food__ is on their own. Because the dataset is up to January 2018, this year is skipped from this plot."
   ]
  },
  {
   "cell_type": "code",
   "execution_count": 38,
   "metadata": {},
   "outputs": [
    {
     "data": {
      "image/png": "[encoded data removed]",
      "text/plain": [
       "<Figure size 432x288 with 1 Axes>"
      ]
     },
     "metadata": {},
     "output_type": "display_data"
    }
   ],
   "source": [
    "#Hoy many projects were launched in the different areas through the years?\n",
    "years_list = range (2009,2018)\n",
    "def extract_projects_cat_year(project_category):\n",
    "    '''Extract the number of projects per category per year from \n",
    "       the projects_per_yr_cat grouping series to an array.\n",
    "        \n",
    "        Args:\n",
    "        project_category (str): main category\n",
    "        \n",
    "        Return:\n",
    "        np.array(launched_list): array of ints with the amount of project_category launches per year       \n",
    "    '''        \n",
    "    launched_list = []\n",
    "    for i in years_list:\n",
    "        launched_list.append(projects_per_yr_cat.loc[(i, project_category)])\n",
    "    return np.array(launched_list)\n",
    "\n",
    "design_launches_arr = (extract_projects_cat_year('Fashion') + \n",
    "                       extract_projects_cat_year('Design') + \n",
    "                       extract_projects_cat_year('Crafts')\n",
    "                      )\n",
    "\n",
    "printed_launches_arr = (extract_projects_cat_year('Publishing') + \n",
    "                        extract_projects_cat_year('Comics') + \n",
    "                        extract_projects_cat_year('Journalism')\n",
    "                       )\n",
    "\n",
    "tech_launches_arr = (extract_projects_cat_year('Technology') + \n",
    "                     extract_projects_cat_year('Games') \n",
    "                    )\n",
    "\n",
    "scenic_launches_arr = (extract_projects_cat_year('Art') + \n",
    "                       extract_projects_cat_year('Dance') + \n",
    "                       extract_projects_cat_year('Theater')                       \n",
    "                      )\n",
    "\n",
    "audiovisual_launches_arr = (extract_projects_cat_year('Film & Video') + \n",
    "                            extract_projects_cat_year('Photography') + \n",
    "                            extract_projects_cat_year('Music')\n",
    "                           )\n",
    "\n",
    "food_launches_arr = extract_projects_cat_year('Food')\n",
    "\n",
    "data_plot = pd.DataFrame({\n",
    "    'Year': years_list, \n",
    "    'Design': design_launches_arr,\n",
    "    'Printed': printed_launches_arr,\n",
    "    'Tech': tech_launches_arr,\n",
    "    'Scenic': scenic_launches_arr,\n",
    "    'Audiovisual': audiovisual_launches_arr,\n",
    "    'Food': food_launches_arr})\n",
    "\n",
    "sns.set(style=\"darkgrid\")\n",
    "sns.set_color_codes(\"muted\")\n",
    "sns.barplot(x='Year', y='value', hue='variable', \n",
    "            data=pd.melt(data_plot, ['Year']),\n",
    "           )\n",
    "\n",
    "plt.xlabel('Year')\n",
    "plt.ylabel('Projects launched')\n",
    "plt.legend(title='Product', loc='upper left', bbox_to_anchor=(1.05, 1))\n",
    "plt.savefig('projects_evolution.png', dpi=150, bbox_inches='tight')"
   ]
  },
  {
   "cell_type": "markdown",
   "metadata": {},
   "source": [
    "We can see that the platform reach a good general performace in around three-four years, alongside a steady increase of printed, tech and food products. From 2015 onwards is evident a decrease in the number of projects launched. What could happened? a natural cycle of crowdfunding hype?, Undermined reputation due to bad projects?, A new tendency behind the curtain? Many insights is still under cover of the data!      "
   ]
  }
 ],
 "metadata": {
  "kernelspec": {
   "display_name": "Python 3",
   "language": "python",
   "name": "python3"
  },
  "language_info": {
   "codemirror_mode": {
    "name": "ipython",
    "version": 3
   },
   "file_extension": ".py",
   "mimetype": "text/x-python",
   "name": "python",
   "nbconvert_exporter": "python",
   "pygments_lexer": "ipython3",
   "version": "3.7.6"
  }
 },
 "nbformat": 4,
 "nbformat_minor": 4
}
